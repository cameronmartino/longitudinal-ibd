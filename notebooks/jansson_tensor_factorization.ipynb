{
 "cells": [
  {
   "cell_type": "code",
   "execution_count": 1,
   "metadata": {},
   "outputs": [],
   "source": [
    "import biom\n",
    "import pandas as pd\n",
    "import numpy as np\n",
    "import seaborn as sns\n",
    "import matplotlib.pyplot as plt\n",
    "import qiime2 as q2\n",
    "\n",
    "from gemelli.factorization import TenAls\n",
    "from gemelli.preprocessing import build\n",
    "\n",
    "from sklearn.model_selection import train_test_split\n",
    "from sklearn.ensemble import RandomForestClassifier\n",
    "from sklearn.metrics import roc_curve, auc\n",
    "from scipy import interp\n",
    "from skbio import TreeNode\n",
    "from biom import load_table, Table\n",
    "\n",
    "from featlib import Sculptor, load_mf\n",
    "from featlib.extractor import abs_energy\n",
    "pd.options.mode.chained_assignment = None  # default='warn'\n",
    "\n",
    "plt.style.use('ggplot')\n",
    "%matplotlib inline"
   ]
  },
  {
   "cell_type": "code",
   "execution_count": 2,
   "metadata": {
    "scrolled": true
   },
   "outputs": [],
   "source": [
    "# rarefy before renaming\n",
    "bt_rar = load_table('jansson/otu-table.even4000.biom')\n",
    "bt = load_table('jansson/unrareif/reference-hit.biom')\n",
    "\n",
    "#mf = load_mf('jansson/mapping-file.txt')\n",
    "mf = pd.read_csv('jansson/unrareif/1629_20180101-113841.txt',sep='\\t',index_col=0)\n",
    "\n",
    "# we only keep the samples that have sequences in the table\n",
    "# we will use both ids so that the number matches\n",
    "# the previous study, even though we did not rarefy here\n",
    "mf = mf.loc[set(bt.ids()) & set(bt_rar.ids())].copy()\n",
    "\n",
    "tree = TreeNode.read('gg-tree/97_otus.tree')\n"
   ]
  },
  {
   "cell_type": "code",
   "execution_count": 3,
   "metadata": {},
   "outputs": [],
   "source": [
    "samples_to_keep = mf[mf.ibd_subtype.isin(['HC', 'CCD'])].index.tolist()\n",
    "\n",
    "mf = mf.loc[samples_to_keep].copy()\n",
    "bt = bt.filter(samples_to_keep, inplace=False)\n",
    "\n",
    "mf['timepoint'] = pd.to_numeric(mf['timepoint'], errors='coerce')\n",
    "\n",
    "mf['IBD'] = mf['ibd_subtype'].replace({'CCD': \"Crohns\",\n",
    "                                       'HC': 'Control'})\n",
    "mf['HOST_SUBJECT_ID'] = mf['host_subject_id'].copy()\n",
    "mf_rar = mf.copy()\n",
    "\n",
    "# save biom to dataframe\n",
    "bt_df = bt.to_dataframe().T.to_dense()\n"
   ]
  },
  {
   "cell_type": "code",
   "execution_count": 4,
   "metadata": {
    "scrolled": true
   },
   "outputs": [
    {
     "data": {
      "text/plain": [
       "(126, 1542)"
      ]
     },
     "execution_count": 4,
     "metadata": {},
     "output_type": "execute_result"
    }
   ],
   "source": [
    "from collections import Counter\n",
    "\n",
    "# here we make sure there are no\n",
    "# repeated timepoints and sum those\n",
    "# subids if they exsist.\n",
    "sid = {x:[] for x in set(mf.HOST_SUBJECT_ID)}\n",
    "for i,j in zip(mf.HOST_SUBJECT_ID,mf.timepoint):\n",
    "    sid[i].append(j)\n",
    "repeated = [[k,k2] for k,v in sid.items()\n",
    "            for k2,v2 in Counter(v).items()\n",
    "            if v2 > 1]\n",
    "for id_,t_ in repeated:\n",
    "    mf_rep = mf[mf.HOST_SUBJECT_ID.isin([id_]) \\\n",
    "                & mf.timepoint.isin([t_])]\n",
    "    # keep this one index sum and delete others\n",
    "    kp = mf_rep.index[0]\n",
    "    rm = mf_rep.index[1:]\n",
    "    # sum table\n",
    "    bt_df.loc[kp,:] = bt_df.loc[mf_rep.index,:].sum(axis=0)\n",
    "    # drop others \n",
    "    bt_df = bt_df.drop(rm)\n",
    "    mf = mf.drop(rm)\n",
    "    \n",
    "    \n",
    "# now we will remove any subjects\n",
    "# with only one timepoint\n",
    "mf = mf[~mf.HOST_SUBJECT_ID.isin([k for k,v in sid.items()\n",
    "                                  if len(v)<=3])]\n",
    "bt_df = bt_df.loc[set(mf.index) & set(bt_df.index),:]\n",
    "# from this we end up with\n",
    "# slightly less samples\n",
    "    \n",
    "# finally make sure no features\n",
    "# sum to zero after removeing samples\n",
    "bt_df = bt_df.loc[:,bt_df.sum(axis=0) > 10]\n",
    "bt_df.shape\n"
   ]
  },
  {
   "cell_type": "code",
   "execution_count": 5,
   "metadata": {},
   "outputs": [
    {
     "data": {
      "text/plain": [
       "(9, 1542, 20)"
      ]
     },
     "execution_count": 5,
     "metadata": {},
     "output_type": "execute_result"
    }
   ],
   "source": [
    "# Gemelli tensor building\n",
    "ten_sim = build()\n",
    "ten_sim.fit(bt_df.copy(), mf.copy(),\n",
    "            'HOST_SUBJECT_ID', 'timepoint')\n",
    "# now we have a\n",
    "# compositional tensor\n",
    "# with shape:\n",
    "ten_sim.tensor.shape"
   ]
  },
  {
   "cell_type": "code",
   "execution_count": 6,
   "metadata": {},
   "outputs": [],
   "source": [
    "# factor the tensor\n",
    "TF_sim = TenAls(rank=2).fit(ten_sim.TRCLR)\n"
   ]
  },
  {
   "cell_type": "code",
   "execution_count": 56,
   "metadata": {
    "scrolled": true
   },
   "outputs": [
    {
     "name": "stdout",
     "output_type": "stream",
     "text": [
      "\u001b[32mSaved Visualization to: TF_figures/jansson/intermediates/biplot_viz.qzv\u001b[0m\r\n"
     ]
    }
   ],
   "source": [
    "# build biplot\n",
    "import skbio\n",
    "from qiime2 import Artifact\n",
    "from q2_types.ordination import PCoAResults\n",
    "from qiime2.plugin import (Properties, Int)\n",
    "\n",
    "#save ord file for biplot\n",
    "rename_cols = {i - 1: 'PC' + str(i) for i in range(1, 3 + 1)}\n",
    "\n",
    "# Feature Loadings\n",
    "feature_loading = pd.DataFrame(TF_sim.feature_loading,\n",
    "                               index=ten_sim.feature_order)\n",
    "feature_loading = feature_loading.rename(columns=rename_cols)\n",
    "feature_loading.sort_values('PC1', inplace=True, ascending=True)\n",
    "feature_loading -= feature_loading.mean(axis=0)\n",
    "feature_loading['PC3'] = 0.0\n",
    "\n",
    "# Sample Loadings\n",
    "sample_loading = pd.DataFrame(TF_sim.sample_loading,\n",
    "                              index=ten_sim.ID_order)\n",
    "sample_loading = sample_loading.rename(columns=rename_cols)\n",
    "sample_loading -= sample_loading.mean(axis=0)\n",
    "sample_loading['PC3'] = 0.0\n",
    "\n",
    "# % var explained\n",
    "proportion_explained = pd.Series(list(TF_sim.eigenvalues / TF_sim.eigenvalues.sum())+[0.0],\n",
    "                                 index=list(rename_cols.values()))\n",
    "# get eigenvalues\n",
    "eigvals = pd.Series(list(TF_sim.eigenvalues)+[0.0],\n",
    "                    index=list(rename_cols.values()))\n",
    "\n",
    "# save ordination results\n",
    "short_method_name = 'tf_biplot'\n",
    "long_method_name = 'TF-Biplot'\n",
    "ord_res = skbio.OrdinationResults(\n",
    "    short_method_name,\n",
    "    long_method_name,\n",
    "    eigvals.copy(),\n",
    "    samples=sample_loading.copy(),\n",
    "    features=feature_loading.copy(),\n",
    "    proportion_explained=proportion_explained.copy())\n",
    "\n",
    "# table matched tree \n",
    "q2ord = Artifact.import_data(PCoAResults % Properties(\"biplot\"),ord_res)\n",
    "q2ord.save('TF_figures/jansson/intermediates/TF_biplot')\n",
    "# sample map\n",
    "#delmap = {k:v for k,v in zip(metadata_binned.Id_num,metadata_binned.DeliveryMode)}\n",
    "#mapping_cond = pd.DataFrame([delmap[i] for i in ten_sim.ID_order],ten_sim.ID_order,['Delivery Mode'])\n",
    "gmap = {k:x.split('_')[0] for k,x in zip(mf.HOST_SUBJECT_ID,\n",
    "                                         mf.IBD)}\n",
    "mapping_cond = pd.DataFrame([gmap[i] for i in ten_sim.ID_order],ten_sim.ID_order,['IBD'])\n",
    "mapping_cond['IBD'] = [gmap[x] for x in sampload.index]\n",
    "mapping_cond.index.name = 'sample-id'\n",
    "mapping_cond.to_csv('TF_figures/jansson/intermediates/biplot_sample_map.tsv',sep='\\t')\n",
    "# taxa map\n",
    "taxamap = pd.read_csv('jansson/unrareif/taxonomy_out/taxonomy.tsv',sep='\\t').set_index('Feature ID')\n",
    "#taxamap = pd.DataFrame(['; '.join(list(x)) for x in taxamap.values],taxamap.index,['Taxon'])\n",
    "taxamap.index.name = 'Feature ID'\n",
    "taxamap.to_csv('TF_figures/jansson/intermediates/biplot_taxa_map.tsv',sep='\\t')\n",
    "\n",
    "!qiime emperor biplot --i-biplot TF_figures/jansson/intermediates/TF_biplot.qza\\\n",
    "                      --m-sample-metadata-file TF_figures/jansson/intermediates/biplot_sample_map.tsv\\\n",
    "                      --m-feature-metadata-file TF_figures/jansson/intermediates/biplot_taxa_map.tsv \\\n",
    "                      --o-visualization TF_figures/jansson/intermediates/biplot_viz.qzv\\\n",
    "                      --p-number-of-features 7\n"
   ]
  },
  {
   "cell_type": "code",
   "execution_count": 7,
   "metadata": {},
   "outputs": [
    {
     "data": {
      "text/html": [
       "<div>\n",
       "<style scoped>\n",
       "    .dataframe tbody tr th:only-of-type {\n",
       "        vertical-align: middle;\n",
       "    }\n",
       "\n",
       "    .dataframe tbody tr th {\n",
       "        vertical-align: top;\n",
       "    }\n",
       "\n",
       "    .dataframe thead th {\n",
       "        text-align: right;\n",
       "    }\n",
       "</style>\n",
       "<table border=\"1\" class=\"dataframe\">\n",
       "  <thead>\n",
       "    <tr style=\"text-align: right;\">\n",
       "      <th></th>\n",
       "      <th>0</th>\n",
       "      <th>1</th>\n",
       "      <th>IBD</th>\n",
       "    </tr>\n",
       "  </thead>\n",
       "  <tbody>\n",
       "    <tr>\n",
       "      <th>1629:1</th>\n",
       "      <td>-0.392471</td>\n",
       "      <td>-0.194374</td>\n",
       "      <td>Crohns</td>\n",
       "    </tr>\n",
       "    <tr>\n",
       "      <th>1629:141</th>\n",
       "      <td>-0.279559</td>\n",
       "      <td>-0.215317</td>\n",
       "      <td>Crohns</td>\n",
       "    </tr>\n",
       "    <tr>\n",
       "      <th>1629:187</th>\n",
       "      <td>-0.267744</td>\n",
       "      <td>-0.210374</td>\n",
       "      <td>Crohns</td>\n",
       "    </tr>\n",
       "    <tr>\n",
       "      <th>1629:193</th>\n",
       "      <td>-0.015529</td>\n",
       "      <td>-0.202051</td>\n",
       "      <td>Crohns</td>\n",
       "    </tr>\n",
       "    <tr>\n",
       "      <th>1629:288</th>\n",
       "      <td>-0.003545</td>\n",
       "      <td>-0.252074</td>\n",
       "      <td>Crohns</td>\n",
       "    </tr>\n",
       "  </tbody>\n",
       "</table>\n",
       "</div>"
      ],
      "text/plain": [
       "                 0         1     IBD\n",
       "1629:1   -0.392471 -0.194374  Crohns\n",
       "1629:141 -0.279559 -0.215317  Crohns\n",
       "1629:187 -0.267744 -0.210374  Crohns\n",
       "1629:193 -0.015529 -0.202051  Crohns\n",
       "1629:288 -0.003545 -0.252074  Crohns"
      ]
     },
     "execution_count": 7,
     "metadata": {},
     "output_type": "execute_result"
    }
   ],
   "source": [
    "# basic viualization of the overall \n",
    "# discrimination between IBD/No-IDB\n",
    "# in the first three PCs\n",
    "sampload = pd.DataFrame(TF_sim.sample_loading,ten_sim.ID_order)\n",
    "gmap = {k:x.split('_')[0] for k,x in zip(mf.HOST_SUBJECT_ID,\n",
    "                                         mf.IBD)}\n",
    "sampload['IBD'] = [gmap[x] for x in sampload.index]\n",
    "sampload.head(5)\n"
   ]
  },
  {
   "cell_type": "code",
   "execution_count": 70,
   "metadata": {},
   "outputs": [
    {
     "data": {
      "image/png": "[encoded data removed]",
      "text/plain": [
       "<Figure size 360x360 with 1 Axes>"
      ]
     },
     "metadata": {
      "needs_background": "light"
     },
     "output_type": "display_data"
    }
   ],
   "source": [
    "\n",
    "plt.rcParams['xtick.labelsize']=24\n",
    "plt.rcParams['ytick.labelsize']=8\n",
    "\n",
    "col_dmap = {'Crohns': '#252525', 'Control': '#969696'}\n",
    "fig,axn = plt.subplots(1,1,figsize=(5,5))\n",
    "\n",
    "#for i,ax1 in enumerate(axn.flatten()):\n",
    "i=0\n",
    "ax1 = axn\n",
    "\n",
    "sns.boxplot(x='IBD',y=i,\n",
    "              data=sampload.sort_values('IBD'),\n",
    "              ax=ax1,palette=col_dmap)\n",
    "\n",
    "# remove boxplot colors from:\n",
    "# https://stackoverflow.com/questions\n",
    "#/36874697/how-to-edit-properties-of\n",
    "#-whiskers-fliers-caps-etc-in-seaborn-boxplot\n",
    "for q,artist in enumerate(ax1.artists):\n",
    "    # Set the linecolor on the artist to the facecolor, and set the facecolor to None\n",
    "    col = artist.get_facecolor()\n",
    "    artist.set_edgecolor('grey')\n",
    "    artist.set_facecolor('None')\n",
    "\n",
    "    # Each box has 6 associated Line2D objects (to make the whiskers, fliers, etc.)\n",
    "    # Loop over them here, and use the same colour as above\n",
    "    for j in range(q*6,q*6+6):\n",
    "        line = ax1.lines[j]\n",
    "        line.set_color('black')\n",
    "        line.set_mfc(col)\n",
    "        line.set_mec(col)\n",
    "\n",
    "sns.swarmplot(x='IBD',y=i,\n",
    "              data=sampload.sort_values('IBD'),\n",
    "              ax=ax1,s=8,palette=col_dmap)\n",
    "ax1.set_ylabel('PC'+str(i+1),fontsize=22)\n",
    "ax1.set_xlabel('',fontsize=22)\n",
    "#+' ('+str(np.around(proportion_explained['PC'+str(i+1)],2)*100)+str(')')\n",
    "plt.savefig('TF_figures/jansson/roc-curves/PC1.png',dpi=1000, \n",
    "            bbox_inches='tight',\n",
    "            facecolor=fig.get_facecolor(), \n",
    "            edgecolor='none')\n",
    "plt.show()\n",
    "\n"
   ]
  },
  {
   "cell_type": "code",
   "execution_count": 9,
   "metadata": {},
   "outputs": [
    {
     "data": {
      "text/html": [
       "<div>\n",
       "<style scoped>\n",
       "    .dataframe tbody tr th:only-of-type {\n",
       "        vertical-align: middle;\n",
       "    }\n",
       "\n",
       "    .dataframe tbody tr th {\n",
       "        vertical-align: top;\n",
       "    }\n",
       "\n",
       "    .dataframe thead th {\n",
       "        text-align: right;\n",
       "    }\n",
       "</style>\n",
       "<table border=\"1\" class=\"dataframe\">\n",
       "  <thead>\n",
       "    <tr style=\"text-align: right;\">\n",
       "      <th></th>\n",
       "      <th>ID</th>\n",
       "      <th>Day</th>\n",
       "      <th>Loading</th>\n",
       "      <th>IBD</th>\n",
       "    </tr>\n",
       "  </thead>\n",
       "  <tbody>\n",
       "    <tr>\n",
       "      <th>0</th>\n",
       "      <td>1629:1</td>\n",
       "      <td>1</td>\n",
       "      <td>-0.108481</td>\n",
       "      <td>Crohns</td>\n",
       "    </tr>\n",
       "    <tr>\n",
       "      <th>1</th>\n",
       "      <td>1629:1</td>\n",
       "      <td>2</td>\n",
       "      <td>-0.076021</td>\n",
       "      <td>Crohns</td>\n",
       "    </tr>\n",
       "    <tr>\n",
       "      <th>2</th>\n",
       "      <td>1629:1</td>\n",
       "      <td>3</td>\n",
       "      <td>-0.063243</td>\n",
       "      <td>Crohns</td>\n",
       "    </tr>\n",
       "    <tr>\n",
       "      <th>3</th>\n",
       "      <td>1629:1</td>\n",
       "      <td>4</td>\n",
       "      <td>-0.095907</td>\n",
       "      <td>Crohns</td>\n",
       "    </tr>\n",
       "    <tr>\n",
       "      <th>4</th>\n",
       "      <td>1629:1</td>\n",
       "      <td>5</td>\n",
       "      <td>-0.077207</td>\n",
       "      <td>Crohns</td>\n",
       "    </tr>\n",
       "  </tbody>\n",
       "</table>\n",
       "</div>"
      ],
      "text/plain": [
       "       ID  Day   Loading     IBD\n",
       "0  1629:1    1 -0.108481  Crohns\n",
       "1  1629:1    2 -0.076021  Crohns\n",
       "2  1629:1    3 -0.063243  Crohns\n",
       "3  1629:1    4 -0.095907  Crohns\n",
       "4  1629:1    5 -0.077207  Crohns"
      ]
     },
     "execution_count": 9,
     "metadata": {},
     "output_type": "execute_result"
    }
   ],
   "source": [
    "traj = np.dot(TF_sim.sample_loading[:, :],\n",
    "              TF_sim.conditional_loading[:, :].T)\n",
    "traj = pd.DataFrame(traj,ten_sim.ID_order,ten_sim.cond_order)\n",
    "traj = traj.stack().reset_index()\n",
    "traj.columns = ['ID','Day','Loading']\n",
    "traj['IBD'] = [gmap[i] for i in traj.ID]\n",
    "traj.head(5)\n"
   ]
  },
  {
   "cell_type": "code",
   "execution_count": 71,
   "metadata": {},
   "outputs": [
    {
     "data": {
      "image/png": "[encoded data removed]",
      "text/plain": [
       "<Figure size 576x360 with 1 Axes>"
      ]
     },
     "metadata": {
      "needs_background": "light"
     },
     "output_type": "display_data"
    }
   ],
   "source": [
    "plt.rcParams['xtick.labelsize']=20\n",
    "plt.rcParams['ytick.labelsize']=8\n",
    "\n",
    "fig,ax2 = plt.subplots(1,1,figsize=(8,5))\n",
    "traj_plot = traj[~traj.Day.isin([9])]\n",
    "sns.pointplot(x='Day',y='Loading',markers=['x','s'],\n",
    "              hue='IBD',ci=95,scale=3,palette=col_dmap,\n",
    "              data=traj_plot.sort_values('IBD',ascending=False),ax=ax2)\n",
    "handles, labels = ax2.get_legend_handles_labels()\n",
    "legend = ax2.legend(handles[:2], labels[:2],\n",
    "            prop={'size':22}, loc=2, \n",
    "            bbox_to_anchor=(0.0, 1.0),\n",
    "            fancybox=True, framealpha=0.5,ncol=2\n",
    "            , markerscale=.5, facecolor=\"grey\")\n",
    "\n",
    "ax2.set_xlabel('Timepoints',fontsize=24)\n",
    "#ax2.set_ylabel('Trajectory-PC'+str(PC_view+1),fontsize=35)\n",
    "ax2.set_ylabel('Trajectory',fontsize=35)\n",
    "ax2.set_ylim(-.1,.2)\n",
    "\n",
    "fig.patch.set_facecolor('white')\n",
    "fig.patch.set_alpha(0.0)\n",
    "fig.patch.set_facecolor('white')\n",
    "fig.patch.set_alpha(0.0)\n",
    "plt.savefig('TF_figures/jansson/roc-curves/trajectory.png',dpi=1000, \n",
    "            bbox_inches='tight',\n",
    "            facecolor=fig.get_facecolor(), \n",
    "            edgecolor='none')\n",
    "plt.show()"
   ]
  },
  {
   "cell_type": "code",
   "execution_count": 103,
   "metadata": {},
   "outputs": [
    {
     "data": {
      "text/plain": [
       "method name               PERMANOVA\n",
       "test statistic name        pseudo-F\n",
       "sample size                     180\n",
       "number of groups                  2\n",
       "test statistic              141.024\n",
       "p-value                       0.001\n",
       "number of permutations          999\n",
       "Name: PERMANOVA results, dtype: object"
      ]
     },
     "execution_count": 103,
     "metadata": {},
     "output_type": "execute_result"
    }
   ],
   "source": [
    "from scipy.spatial import distance\n",
    "from skbio.stats.distance import permanova\n",
    "from skbio.stats.distance import DistanceMatrix\n",
    "\n",
    "tjdist = []\n",
    "for i in [0]:\n",
    "    tjdist.append(np.dot(TF_sim.sample_loading[:, [i]],\n",
    "                         TF_sim.conditional_loading[:, [i]].T).flatten())\n",
    "tjdist = np.vstack(tjdist)  \n",
    "tjdist = distance.cdist(tjdist.T,tjdist.T)\n",
    "\n",
    "delivid = {k:v for k,v in zip(mf.host_subject_id,mf.IBD)}\n",
    "covariate = [j for i in ten_sim.ID_order \n",
    "             for k,j in enumerate([delivid[i]]*TF_sim.conditional_loading.shape[0])]\n",
    "permTF = permanova(DistanceMatrix(tjdist),covariate)  \n",
    "permTF\n"
   ]
  },
  {
   "cell_type": "code",
   "execution_count": 91,
   "metadata": {},
   "outputs": [
    {
     "data": {
      "text/plain": [
       "Counter({'Crohns': 12, 'Control': 8})"
      ]
     },
     "execution_count": 91,
     "metadata": {},
     "output_type": "execute_result"
    }
   ],
   "source": [
    "from collections import Counter\n",
    "Counter(sampload['IBD'])"
   ]
  },
  {
   "cell_type": "code",
   "execution_count": 11,
   "metadata": {},
   "outputs": [],
   "source": [
    "# match to be compareable\n",
    "think = Sculptor(biom_table=bt_rar.filter(mf.index.tolist(), inplace=False),\n",
    "                 mapping_file=mf, tree=tree,\n",
    "                 gradient='timepoint', trajectory='host_subject_id',\n",
    "                 name='gg-jansson')\n"
   ]
  },
  {
   "cell_type": "code",
   "execution_count": 13,
   "metadata": {
    "scrolled": false
   },
   "outputs": [
    {
     "name": "stderr",
     "output_type": "stream",
     "text": [
      "/anaconda3/envs/qiime2-2019.1/lib/python3.6/site-packages/sklearn/metrics/ranking.py:648: UndefinedMetricWarning: No negative samples in y_true, false positive value should be meaningless\n",
      "  UndefinedMetricWarning)\n",
      "/anaconda3/envs/qiime2-2019.1/lib/python3.6/site-packages/sklearn/metrics/ranking.py:648: UndefinedMetricWarning: No negative samples in y_true, false positive value should be meaningless\n",
      "  UndefinedMetricWarning)\n"
     ]
    },
    {
     "data": {
      "image/png": "[encoded data removed]",
      "text/plain": [
       "<Figure size 720x360 with 2 Axes>"
      ]
     },
     "metadata": {
      "needs_background": "light"
     },
     "output_type": "display_data"
    }
   ],
   "source": [
    "lw = 4\n",
    "N = 100\n",
    "for N_samples in range(0, 5):\n",
    "\n",
    "    fig,axn = plt.subplots(1,2,figsize=(10,5))\n",
    "    AUCs = {}\n",
    "    mean_tpr = {}\n",
    "    method_ = {}\n",
    "    for i in range(len(axn)):\n",
    "        mean_fpr = np.linspace(0, 1, 100)\n",
    "        mean_tpr[i] = []\n",
    "        AUCs[i] = []\n",
    "\n",
    "    i = 0\n",
    "    while i < N:\n",
    "        ## BEGIN feature creation\n",
    "        \n",
    "        # zero samples means \"traditional\" classifier\n",
    "        # with one sample per subject\n",
    "        think.randomly_select(1 if N_samples == 0 else N_samples)\n",
    "\n",
    "        # groups discovered by phylofactor\n",
    "        features_to_keep = []\n",
    "        for _, id_, md in think.biom_table.iter(axis='observation', dense=False):\n",
    "            t = md['taxonomy']\n",
    "            if (t[4].lower() == 'f__lachnospiraceae'\n",
    "                or t[2].lower() == 'c__gammaproteobacteria'\n",
    "                or t[2].lower() == 'c__betaproteobacteria'):\n",
    "                features_to_keep.append(id_)\n",
    "\n",
    "        # more than one sample\n",
    "        if N_samples > 1:\n",
    "            alpha = think.alpha_table(['faith_pd', 'chao1', 'brillouin_d'])\n",
    "            beta = think.beta_table()\n",
    "            features = think.microbes_over_time(ids=features_to_keep)\n",
    "            \n",
    "            # combine the data\n",
    "            combined_features = pd.concat([features, alpha, beta], axis=1)\n",
    "\n",
    "            # get a column with IBD status for all the subjects\n",
    "            combined_features.dropna(axis=1, how='any', inplace=True)\n",
    "            classes = think.mapping_file.groupby(['HOST_SUBJECT_ID', 'IBD'],\n",
    "                                        as_index=False).aggregate(np.sum).set_index('HOST_SUBJECT_ID',\n",
    "                                                                                    inplace=False)\n",
    "            combined_features['IBD'] = classes['IBD']\n",
    "        # one sample with our model\n",
    "        elif N_samples == 1:\n",
    "            alpha = think.alpha_table(['faith_pd', 'chao1', 'brillouin_d'], [abs_energy])\n",
    "            features = think.biom_table.filter(ids_to_keep=features_to_keep, axis='observation')\n",
    "            features = features.norm(inplace=False).to_dataframe().to_dense().T\n",
    "            features['HOST_SUBJECT_ID'] = think.mapping_file['HOST_SUBJECT_ID']\n",
    "            features['IBD'] = think.mapping_file['IBD']\n",
    "            features.set_index('HOST_SUBJECT_ID', inplace=True)\n",
    "            combined_features = pd.concat([features, alpha], axis=1, sort=False)\n",
    "        # one sample with only relative abundances\n",
    "        elif N_samples == 0:\n",
    "            combined_features = think.biom_table.norm(inplace=False).to_dataframe().to_dense().T\n",
    "            combined_features['IBD'] = think.mapping_file['IBD']\n",
    "\n",
    "        # get a list of the features without the labels\n",
    "        no_ibd = combined_features.columns.tolist()\n",
    "        no_ibd.remove('IBD')\n",
    "        \n",
    "        # build same aggregated list for TF-trajectory\n",
    "        index_mapped = []\n",
    "        for id_,t_ in zip(mf.loc[think.biom_table.ids(),:].HOST_SUBJECT_ID,\n",
    "                          mf.loc[think.biom_table.ids(),:].timepoint):\n",
    "            index_mapped += list(traj[traj.ID.isin([id_]) & traj.Day.isin([t_])].index)\n",
    "        traj_learn = traj.loc[index_mapped,:]\n",
    "        traj_learn = traj_learn.groupby(['ID']).mean().drop('Day',axis=1)\n",
    "        traj_learn['IBD'] = [gmap[x] for x in traj_learn.index]\n",
    "        \n",
    "        # save to run \n",
    "        Xrun = [combined_features[no_ibd],traj_learn[['Loading']]]\n",
    "        Yrun = [combined_features['IBD'],traj_learn['IBD']]\n",
    "        nm = ['Alpha-Beta','TF']\n",
    "        \n",
    "        ## END feature creation\n",
    "        \n",
    "        for X,y,(method,ax) in zip(Xrun,Yrun,enumerate(axn.flatten())):\n",
    "            \n",
    "            # build classifier \n",
    "            X_train, X_test, Y_train, Y_test = train_test_split(X,\n",
    "                                                                y,\n",
    "                                                                test_size=0.35)\n",
    "            clf = RandomForestClassifier(n_estimators=500, n_jobs=4)\n",
    "            probas_ = clf.fit(X_train, Y_train).predict_proba(X_test)\n",
    "\n",
    "            # Compute ROC curve and area the curve\n",
    "            fpr, tpr, thresholds = roc_curve(Y_test, probas_[:, 1], pos_label='Crohns')\n",
    "\n",
    "            # skip any results with np.nan values as it means\n",
    "            # the test/train split yieleded a bad selection\n",
    "            method_[method] = nm[method]\n",
    "            if np.any(np.isnan(fpr)) or np.any(np.isnan(tpr)):\n",
    "                continue \n",
    "            else:\n",
    "                mean_tpr[method].append(interp(mean_fpr, fpr, tpr))\n",
    "                mean_tpr[method][-1][0] = 0.0\n",
    "                roc_auc = auc(fpr, tpr)\n",
    "                AUCs[method].append(roc_auc) \n",
    "                ax.plot(fpr, tpr, lw=0.1*lw, color='gray')\n",
    "                i += 1\n",
    "            \n",
    "\n",
    "    for method,ax in enumerate(axn.flatten()):\n",
    "    \n",
    "        ax.plot([0, 1], [0, 1], linestyle='--', lw=lw, color='k',\n",
    "                 label='Luck')\n",
    "        mean_tpr_ = np.mean(mean_tpr[method], axis=0)\n",
    "        mean_tpr_[-1] = 1.0\n",
    "        mean_auc = auc(mean_fpr, mean_tpr_)\n",
    "        std_auc = np.std(AUCs[method])\n",
    "        ax.plot(mean_fpr, mean_tpr_, color='#4daf4a',\n",
    "                 label=r'Mean ROC (AUC = %0.2f $\\pm$ %0.2f)' % (mean_auc, std_auc),\n",
    "                 lw=lw, alpha=.8)\n",
    "        std_tpr = np.std(mean_tpr[method], axis=0)\n",
    "        tprs_upper = np.minimum(mean_tpr_ + std_tpr, 1)\n",
    "        tprs_lower = np.maximum(mean_tpr_ - std_tpr, 0)\n",
    "        ax.fill_between(mean_fpr, tprs_lower, tprs_upper, color='grey', alpha=.2,\n",
    "                         label=r'$\\pm$ 1 std. dev.')\n",
    "        ax.set_xlim([-0.05, 1.05])\n",
    "        ax.set_ylim([-0.05, 1.05])\n",
    "        ax.set_xlabel('False Positive Rate',fontsize=15)\n",
    "        ax.set_ylabel('True Positive Rate',fontsize=15)\n",
    "        #ax.set_title('Receiver operating characteristic')\n",
    "        ax.set_title('ROC: '+str(method_[method]))\n",
    "        ax.legend(loc=\"lower right\")\n",
    "    plt.suptitle('N-samples: '+str(N_samples+1),fontsize=20)\n",
    "    fig.patch.set_facecolor('white')\n",
    "    fig.patch.set_alpha(0.0)\n",
    "    plt.savefig('TF_figures/jansson/roc-curves/%d.samples.per.subject-%d.iterations.png' \n",
    "                % (N_samples, N),dpi=1000, \n",
    "                bbox_inches='tight',\n",
    "                facecolor=fig.get_facecolor(), \n",
    "                edgecolor='none')\n",
    "    plt.show()\n",
    "    break\n",
    "\n"
   ]
  },
  {
   "cell_type": "code",
   "execution_count": null,
   "metadata": {},
   "outputs": [],
   "source": []
  }
 ],
 "metadata": {
  "kernelspec": {
   "display_name": "Python 3",
   "language": "python",
   "name": "python3"
  },
  "language_info": {
   "codemirror_mode": {
    "name": "ipython",
    "version": 3
   },
   "file_extension": ".py",
   "mimetype": "text/x-python",
   "name": "python",
   "nbconvert_exporter": "python",
   "pygments_lexer": "ipython3",
   "version": "3.6.5"
  }
 },
 "nbformat": 4,
 "nbformat_minor": 2
}
